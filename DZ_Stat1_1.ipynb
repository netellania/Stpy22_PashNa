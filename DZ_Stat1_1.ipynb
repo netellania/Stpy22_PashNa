{
 "cells": [
  {
   "cell_type": "code",
   "execution_count": 133,
   "metadata": {},
   "outputs": [],
   "source": [
    "import pandas as pd\n",
    "import numpy as np"
   ]
  },
  {
   "cell_type": "code",
   "execution_count": 134,
   "metadata": {},
   "outputs": [
    {
     "data": {
      "text/html": [
       "<div>\n",
       "<style scoped>\n",
       "    .dataframe tbody tr th:only-of-type {\n",
       "        vertical-align: middle;\n",
       "    }\n",
       "\n",
       "    .dataframe tbody tr th {\n",
       "        vertical-align: top;\n",
       "    }\n",
       "\n",
       "    .dataframe thead th {\n",
       "        text-align: right;\n",
       "    }\n",
       "</style>\n",
       "<table border=\"1\" class=\"dataframe\">\n",
       "  <thead>\n",
       "    <tr style=\"text-align: right;\">\n",
       "      <th></th>\n",
       "      <th>2</th>\n",
       "      <th>1</th>\n",
       "      <th>530101</th>\n",
       "      <th>38.50</th>\n",
       "      <th>66</th>\n",
       "      <th>28</th>\n",
       "      <th>3</th>\n",
       "      <th>3.1</th>\n",
       "      <th>?</th>\n",
       "      <th>2.1</th>\n",
       "      <th>...</th>\n",
       "      <th>45.00</th>\n",
       "      <th>8.40</th>\n",
       "      <th>?.4</th>\n",
       "      <th>?.5</th>\n",
       "      <th>2.2</th>\n",
       "      <th>2.3</th>\n",
       "      <th>11300</th>\n",
       "      <th>00000</th>\n",
       "      <th>00000.1</th>\n",
       "      <th>2.4</th>\n",
       "    </tr>\n",
       "  </thead>\n",
       "  <tbody>\n",
       "    <tr>\n",
       "      <th>0</th>\n",
       "      <td>1.0</td>\n",
       "      <td>1</td>\n",
       "      <td>534817</td>\n",
       "      <td>39.2</td>\n",
       "      <td>88.0</td>\n",
       "      <td>20.0</td>\n",
       "      <td>NaN</td>\n",
       "      <td>NaN</td>\n",
       "      <td>4.0</td>\n",
       "      <td>1.0</td>\n",
       "      <td>...</td>\n",
       "      <td>50.0</td>\n",
       "      <td>85.0</td>\n",
       "      <td>2.0</td>\n",
       "      <td>2.0</td>\n",
       "      <td>3.0</td>\n",
       "      <td>2</td>\n",
       "      <td>2208</td>\n",
       "      <td>0</td>\n",
       "      <td>0</td>\n",
       "      <td>2</td>\n",
       "    </tr>\n",
       "    <tr>\n",
       "      <th>1</th>\n",
       "      <td>2.0</td>\n",
       "      <td>1</td>\n",
       "      <td>530334</td>\n",
       "      <td>38.3</td>\n",
       "      <td>40.0</td>\n",
       "      <td>24.0</td>\n",
       "      <td>1.0</td>\n",
       "      <td>1.0</td>\n",
       "      <td>3.0</td>\n",
       "      <td>1.0</td>\n",
       "      <td>...</td>\n",
       "      <td>33.0</td>\n",
       "      <td>6.7</td>\n",
       "      <td>NaN</td>\n",
       "      <td>NaN</td>\n",
       "      <td>1.0</td>\n",
       "      <td>2</td>\n",
       "      <td>0</td>\n",
       "      <td>0</td>\n",
       "      <td>0</td>\n",
       "      <td>1</td>\n",
       "    </tr>\n",
       "    <tr>\n",
       "      <th>2</th>\n",
       "      <td>1.0</td>\n",
       "      <td>9</td>\n",
       "      <td>5290409</td>\n",
       "      <td>39.1</td>\n",
       "      <td>164.0</td>\n",
       "      <td>84.0</td>\n",
       "      <td>4.0</td>\n",
       "      <td>1.0</td>\n",
       "      <td>6.0</td>\n",
       "      <td>2.0</td>\n",
       "      <td>...</td>\n",
       "      <td>48.0</td>\n",
       "      <td>7.2</td>\n",
       "      <td>3.0</td>\n",
       "      <td>5.3</td>\n",
       "      <td>2.0</td>\n",
       "      <td>1</td>\n",
       "      <td>2208</td>\n",
       "      <td>0</td>\n",
       "      <td>0</td>\n",
       "      <td>1</td>\n",
       "    </tr>\n",
       "    <tr>\n",
       "      <th>3</th>\n",
       "      <td>2.0</td>\n",
       "      <td>1</td>\n",
       "      <td>530255</td>\n",
       "      <td>37.3</td>\n",
       "      <td>104.0</td>\n",
       "      <td>35.0</td>\n",
       "      <td>NaN</td>\n",
       "      <td>NaN</td>\n",
       "      <td>6.0</td>\n",
       "      <td>2.0</td>\n",
       "      <td>...</td>\n",
       "      <td>74.0</td>\n",
       "      <td>7.4</td>\n",
       "      <td>NaN</td>\n",
       "      <td>NaN</td>\n",
       "      <td>2.0</td>\n",
       "      <td>2</td>\n",
       "      <td>4300</td>\n",
       "      <td>0</td>\n",
       "      <td>0</td>\n",
       "      <td>2</td>\n",
       "    </tr>\n",
       "    <tr>\n",
       "      <th>4</th>\n",
       "      <td>2.0</td>\n",
       "      <td>1</td>\n",
       "      <td>528355</td>\n",
       "      <td>NaN</td>\n",
       "      <td>NaN</td>\n",
       "      <td>NaN</td>\n",
       "      <td>2.0</td>\n",
       "      <td>1.0</td>\n",
       "      <td>3.0</td>\n",
       "      <td>1.0</td>\n",
       "      <td>...</td>\n",
       "      <td>NaN</td>\n",
       "      <td>NaN</td>\n",
       "      <td>NaN</td>\n",
       "      <td>NaN</td>\n",
       "      <td>1.0</td>\n",
       "      <td>2</td>\n",
       "      <td>0</td>\n",
       "      <td>0</td>\n",
       "      <td>0</td>\n",
       "      <td>2</td>\n",
       "    </tr>\n",
       "  </tbody>\n",
       "</table>\n",
       "<p>5 rows × 28 columns</p>\n",
       "</div>"
      ],
      "text/plain": [
       "     2  1   530101  38.50     66    28    3  3.1    ?  2.1  ...  45.00  8.40  \\\n",
       "0  1.0  1   534817   39.2   88.0  20.0  NaN  NaN  4.0  1.0  ...   50.0  85.0   \n",
       "1  2.0  1   530334   38.3   40.0  24.0  1.0  1.0  3.0  1.0  ...   33.0   6.7   \n",
       "2  1.0  9  5290409   39.1  164.0  84.0  4.0  1.0  6.0  2.0  ...   48.0   7.2   \n",
       "3  2.0  1   530255   37.3  104.0  35.0  NaN  NaN  6.0  2.0  ...   74.0   7.4   \n",
       "4  2.0  1   528355    NaN    NaN   NaN  2.0  1.0  3.0  1.0  ...    NaN   NaN   \n",
       "\n",
       "   ?.4  ?.5  2.2  2.3  11300  00000  00000.1  2.4  \n",
       "0  2.0  2.0  3.0    2   2208      0        0    2  \n",
       "1  NaN  NaN  1.0    2      0      0        0    1  \n",
       "2  3.0  5.3  2.0    1   2208      0        0    1  \n",
       "3  NaN  NaN  2.0    2   4300      0        0    2  \n",
       "4  NaN  NaN  1.0    2      0      0        0    2  \n",
       "\n",
       "[5 rows x 28 columns]"
      ]
     },
     "execution_count": 134,
     "metadata": {},
     "output_type": "execute_result"
    }
   ],
   "source": [
    "# Задание 1. Загрузка данных\n",
    "#Изучить представленный набор данных на основе описания его столбцов, \n",
    "#загрузить его и оставить 8 столбцов для дальнейшего изучения: \n",
    "#surgery?, Age, rectal temperature, pulse, respiratory rate, \n",
    "#temperature of extremities, pain, outcome.\n",
    "#https://raw.githubusercontent.com/obulygin/pyda_homeworks/master/statistics_basics/horse_data.csv\n",
    "missing_values = ['?']\n",
    "#df = pd.read_csv('out.csv', na_values = missing_values) #, \n",
    "df = pd.read_csv('https://raw.githubusercontent.com/obulygin/pyda_homeworks/master/statistics_basics/horse_data.csv', na_values = missing_values)\n",
    "# что имеется в датафрейме?\n",
    "df.head()\n"
   ]
  },
  {
   "cell_type": "code",
   "execution_count": 135,
   "metadata": {},
   "outputs": [
    {
     "name": "stdout",
     "output_type": "stream",
     "text": [
      "       2  1  38.50     66    28    3    5  2.2\n",
      "0    1.0  1   39.2   88.0  20.0  NaN  3.0  3.0\n",
      "1    2.0  1   38.3   40.0  24.0  1.0  3.0  1.0\n",
      "2    1.0  9   39.1  164.0  84.0  4.0  2.0  2.0\n",
      "3    2.0  1   37.3  104.0  35.0  NaN  NaN  2.0\n",
      "4    2.0  1    NaN    NaN   NaN  2.0  2.0  1.0\n",
      "..   ... ..    ...    ...   ...  ...  ...  ...\n",
      "294  1.0  1    NaN  120.0  70.0  4.0  2.0  3.0\n",
      "295  2.0  1   37.2   72.0  24.0  3.0  4.0  3.0\n",
      "296  1.0  1   37.5   72.0  30.0  4.0  4.0  2.0\n",
      "297  1.0  1   36.5  100.0  24.0  3.0  3.0  1.0\n",
      "298  1.0  1   37.2   40.0  20.0  NaN  NaN  3.0\n",
      "\n",
      "[299 rows x 8 columns]\n"
     ]
    }
   ],
   "source": [
    "#выбираем необходимые 8 столбцов\n",
    "df1=df.iloc[:, [0,1,3,4,5,6,10,22]]\n",
    "print(df1)"
   ]
  },
  {
   "cell_type": "code",
   "execution_count": 136,
   "metadata": {},
   "outputs": [
    {
     "data": {
      "text/html": [
       "<div>\n",
       "<style scoped>\n",
       "    .dataframe tbody tr th:only-of-type {\n",
       "        vertical-align: middle;\n",
       "    }\n",
       "\n",
       "    .dataframe tbody tr th {\n",
       "        vertical-align: top;\n",
       "    }\n",
       "\n",
       "    .dataframe thead th {\n",
       "        text-align: right;\n",
       "    }\n",
       "</style>\n",
       "<table border=\"1\" class=\"dataframe\">\n",
       "  <thead>\n",
       "    <tr style=\"text-align: right;\">\n",
       "      <th></th>\n",
       "      <th>surgery?</th>\n",
       "      <th>Age</th>\n",
       "      <th>rectal_temperature</th>\n",
       "      <th>pulse</th>\n",
       "      <th>respiratory_rate</th>\n",
       "      <th>temperature_of_extremities</th>\n",
       "      <th>pain</th>\n",
       "      <th>outcome</th>\n",
       "    </tr>\n",
       "  </thead>\n",
       "  <tbody>\n",
       "    <tr>\n",
       "      <th>0</th>\n",
       "      <td>1.0</td>\n",
       "      <td>1</td>\n",
       "      <td>39.2</td>\n",
       "      <td>88.0</td>\n",
       "      <td>20.0</td>\n",
       "      <td>NaN</td>\n",
       "      <td>3.0</td>\n",
       "      <td>3.0</td>\n",
       "    </tr>\n",
       "    <tr>\n",
       "      <th>1</th>\n",
       "      <td>2.0</td>\n",
       "      <td>1</td>\n",
       "      <td>38.3</td>\n",
       "      <td>40.0</td>\n",
       "      <td>24.0</td>\n",
       "      <td>1.0</td>\n",
       "      <td>3.0</td>\n",
       "      <td>1.0</td>\n",
       "    </tr>\n",
       "    <tr>\n",
       "      <th>2</th>\n",
       "      <td>1.0</td>\n",
       "      <td>9</td>\n",
       "      <td>39.1</td>\n",
       "      <td>164.0</td>\n",
       "      <td>84.0</td>\n",
       "      <td>4.0</td>\n",
       "      <td>2.0</td>\n",
       "      <td>2.0</td>\n",
       "    </tr>\n",
       "    <tr>\n",
       "      <th>3</th>\n",
       "      <td>2.0</td>\n",
       "      <td>1</td>\n",
       "      <td>37.3</td>\n",
       "      <td>104.0</td>\n",
       "      <td>35.0</td>\n",
       "      <td>NaN</td>\n",
       "      <td>NaN</td>\n",
       "      <td>2.0</td>\n",
       "    </tr>\n",
       "    <tr>\n",
       "      <th>4</th>\n",
       "      <td>2.0</td>\n",
       "      <td>1</td>\n",
       "      <td>NaN</td>\n",
       "      <td>NaN</td>\n",
       "      <td>NaN</td>\n",
       "      <td>2.0</td>\n",
       "      <td>2.0</td>\n",
       "      <td>1.0</td>\n",
       "    </tr>\n",
       "  </tbody>\n",
       "</table>\n",
       "</div>"
      ],
      "text/plain": [
       "   surgery?  Age  rectal_temperature  pulse  respiratory_rate  \\\n",
       "0       1.0    1                39.2   88.0              20.0   \n",
       "1       2.0    1                38.3   40.0              24.0   \n",
       "2       1.0    9                39.1  164.0              84.0   \n",
       "3       2.0    1                37.3  104.0              35.0   \n",
       "4       2.0    1                 NaN    NaN               NaN   \n",
       "\n",
       "   temperature_of_extremities  pain  outcome  \n",
       "0                         NaN   3.0      3.0  \n",
       "1                         1.0   3.0      1.0  \n",
       "2                         4.0   2.0      2.0  \n",
       "3                         NaN   NaN      2.0  \n",
       "4                         2.0   2.0      1.0  "
      ]
     },
     "execution_count": 136,
     "metadata": {},
     "output_type": "execute_result"
    }
   ],
   "source": [
    "# Наименования столбцов\n",
    "df1.columns =['surgery?', 'Age', 'rectal_temperature', 'pulse','respiratory_rate', 'temperature_of_extremities', 'pain', 'outcome']\n",
    "df1.head()"
   ]
  },
  {
   "cell_type": "code",
   "execution_count": 137,
   "metadata": {},
   "outputs": [
    {
     "name": "stdout",
     "output_type": "stream",
     "text": [
      "<class 'pandas.core.frame.DataFrame'>\n",
      "RangeIndex: 299 entries, 0 to 298\n",
      "Data columns (total 8 columns):\n",
      " #   Column                      Non-Null Count  Dtype  \n",
      "---  ------                      --------------  -----  \n",
      " 0   surgery?                    298 non-null    float64\n",
      " 1   Age                         299 non-null    int64  \n",
      " 2   rectal_temperature          239 non-null    float64\n",
      " 3   pulse                       275 non-null    float64\n",
      " 4   respiratory_rate            241 non-null    float64\n",
      " 5   temperature_of_extremities  243 non-null    float64\n",
      " 6   pain                        244 non-null    float64\n",
      " 7   outcome                     298 non-null    float64\n",
      "dtypes: float64(7), int64(1)\n",
      "memory usage: 18.8 KB\n"
     ]
    }
   ],
   "source": [
    "df1.info()"
   ]
  },
  {
   "cell_type": "code",
   "execution_count": 138,
   "metadata": {},
   "outputs": [
    {
     "name": "stdout",
     "output_type": "stream",
     "text": [
      "184.0\n",
      "184.0\n",
      "184.0\n",
      "40.8\n",
      "40.8\n",
      "40.8\n"
     ]
    }
   ],
   "source": [
    "#Задание 2. Первичное изучение данных\n",
    "#Проанализировать значения по столбцам, рассчитать базовые статистики, найти выбросы.\n",
    "#Оценим максимальный пульс и темпиратуру,чтобы понимать есть ли животные которые потенциально могут быть больны или испытывать шок\n",
    "print(max(df1['pulse']))\n",
    "print(np.max(df1['pulse']))\n",
    "print(df1['pulse'].max())\n",
    "\n",
    "print(max(df1['rectal_temperature']))\n",
    "print(np.max(df1['rectal_temperature']))\n",
    "print(df1['rectal_temperature'].max())\n",
    "\n",
    "#полученный результат (темпиратура выше нормальной = 37,8 и высокий пульс) в части темпиратуры и пульса позволяет сделать вывод о том,что имеются лошади, которые могут быть больны или испытывать шок"
   ]
  },
  {
   "cell_type": "code",
   "execution_count": 139,
   "metadata": {},
   "outputs": [
    {
     "name": "stdout",
     "output_type": "stream",
     "text": [
      "30.0\n",
      "30.0\n",
      "30.0\n",
      "35.4\n",
      "35.4\n",
      "35.4\n"
     ]
    }
   ],
   "source": [
    "#Оценим минимальный  пульс и темпиратуру, чтобы понимать есть ли животные которые потенциально могут быть больны или испытывать шок\n",
    "print(min(df1['pulse']))\n",
    "print(np.min(df1['pulse']))\n",
    "print(df1['pulse'].min())\n",
    "\n",
    "print(min(df1['rectal_temperature']))\n",
    "print(np.min(df1['rectal_temperature']))\n",
    "print(df1['rectal_temperature'].min())"
   ]
  },
  {
   "cell_type": "code",
   "execution_count": 140,
   "metadata": {
    "colab": {
     "base_uri": "https://localhost:8080/",
     "height": 34
    },
    "colab_type": "code",
    "id": "tJ-8XfmBVU7n",
    "outputId": "e359caf8-3bf2-4421-afc9-db680348c992"
   },
   "outputs": [
    {
     "name": "stdout",
     "output_type": "stream",
     "text": [
      "154.0\n"
     ]
    }
   ],
   "source": [
    "# размах – разница между минимальным и максимальным значением пульса\n",
    "pulse_range = df1['pulse'].max() - df1['pulse'].min()\n",
    "print(pulse_range)\n"
   ]
  },
  {
   "cell_type": "markdown",
   "metadata": {},
   "source": [
    "# Среднеарифметическое"
   ]
  },
  {
   "cell_type": "code",
   "execution_count": 141,
   "metadata": {},
   "outputs": [
    {
     "data": {
      "text/plain": [
       "nan"
      ]
     },
     "execution_count": 141,
     "metadata": {},
     "output_type": "execute_result"
    }
   ],
   "source": [
    "# средний пульс \n",
    "sum(df1['pulse']) / len(df1['pulse'])"
   ]
  },
  {
   "cell_type": "code",
   "execution_count": 142,
   "metadata": {},
   "outputs": [
    {
     "name": "stdout",
     "output_type": "stream",
     "text": [
      "71.93454545454546\n",
      "71.93454545454546\n"
     ]
    }
   ],
   "source": [
    "print(np.mean(df1['pulse']))\n",
    "print(df1['pulse'].mean())"
   ]
  },
  {
   "cell_type": "markdown",
   "metadata": {},
   "source": [
    "# Мода"
   ]
  },
  {
   "cell_type": "code",
   "execution_count": 143,
   "metadata": {
    "scrolled": true
   },
   "outputs": [
    {
     "name": "stdout",
     "output_type": "stream",
     "text": [
      "Значение моды: 1.0 количество встречаемости: 178\n"
     ]
    }
   ],
   "source": [
    "# Оценить что чаще всего произошло с лошадьми (какой параметр чаще встречается в поле Результат )  \n",
    "# Создаём пустой словарь, в котором будем считать количество появлений значений \n",
    "outcome_counts = {}\n",
    "for w in df1['outcome'].round():\n",
    "    if w not in outcome_counts:\n",
    "        outcome_counts[w] = 1\n",
    "    else:\n",
    "        outcome_counts[w] += 1\n",
    "\n",
    "# Проходимся по словарю и ищем максимальное количество повторений\n",
    "# Алгоритм поиска максимума\n",
    "maxout = 0\n",
    "mode_outcome = None\n",
    "for k, v in outcome_counts.items():\n",
    "    if maxout < v:\n",
    "        maxout = v\n",
    "        mode_outcome = k\n",
    "print('Значение моды:', mode_outcome, 'количество встречаемости:', maxout)"
   ]
  },
  {
   "cell_type": "code",
   "execution_count": 144,
   "metadata": {},
   "outputs": [
    {
     "name": "stdout",
     "output_type": "stream",
     "text": [
      "Значение моды:  1.0\n"
     ]
    }
   ],
   "source": [
    "print('Значение моды: ', df1['outcome'].round().mode()[0])\n",
    "# таким образом,можно говорить о том,что чаще всего встречаются признак прожившей лошади, следовательно большинство не были подвержены эвтаназии или умерли "
   ]
  },
  {
   "cell_type": "markdown",
   "metadata": {},
   "source": [
    "# Медиана"
   ]
  },
  {
   "cell_type": "code",
   "execution_count": 145,
   "metadata": {},
   "outputs": [
    {
     "name": "stdout",
     "output_type": "stream",
     "text": [
      "Медиана:  38.9\n"
     ]
    }
   ],
   "source": [
    "# Оценка темпиратуры \n",
    "rt = df1['rectal_temperature']\n",
    "\n",
    "# Находим  количество значений\n",
    "num_rt = len(df1['rectal_temperature'])\n",
    "\n",
    "# Сортируем в порядке возрастания\n",
    "sorted_rt = sorted(rt)\n",
    "\n",
    "# Ищем индекс среднего элемента\n",
    "# если количество элементов четное, то берем среднее двух элементов в середине\n",
    "middle = (num_rt // 2)\n",
    "if num_rt % 2 == 0:\n",
    "    result = (sorted_rt[middle-1] + sorted_rt[middle])/2\n",
    "else:\n",
    "    result = sorted_rt[middle]\n",
    "# Находим медиану\n",
    "print('Медиана: ', result)"
   ]
  },
  {
   "cell_type": "markdown",
   "metadata": {
    "colab_type": "text",
    "id": "9Y239gfqVaL-"
   },
   "source": [
    "# СКО"
   ]
  },
  {
   "cell_type": "code",
   "execution_count": 146,
   "metadata": {
    "colab": {
     "base_uri": "https://localhost:8080/",
     "height": 34
    },
    "colab_type": "code",
    "id": "J0qTV1YmgBCd",
    "outputId": "7365743e-25eb-4fb1-b294-8b9ae2fb099f"
   },
   "outputs": [
    {
     "data": {
      "text/plain": [
       "nan"
      ]
     },
     "execution_count": 146,
     "metadata": {},
     "output_type": "execute_result"
    }
   ],
   "source": [
    "# ручной подсчет\n",
    "def stdev(nums):\n",
    "    diffs = 0\n",
    "    # считаем среднее значение\n",
    "    avg = sum(nums) / len(nums)\n",
    "    for n in nums:\n",
    "        # считаем сумму квадратичных отклонений\n",
    "        diffs += (n - avg) ** (2)\n",
    "    # считаем корень среднеквадратичного значения\n",
    "    return (diffs / (len(nums) - 1)) ** (0.5)\n",
    "\n",
    "stdev(df1['pulse'])"
   ]
  },
  {
   "cell_type": "code",
   "execution_count": 147,
   "metadata": {
    "colab": {
     "base_uri": "https://localhost:8080/",
     "height": 34
    },
    "colab_type": "code",
    "id": "KbJrfmd7faCm",
    "outputId": "ec891589-b430-49c8-b42f-305c44836f7b"
   },
   "outputs": [
    {
     "name": "stdout",
     "output_type": "stream",
     "text": [
      "Пульс\n",
      "28.68052200365475\n",
      "28.68052200365475\n"
     ]
    }
   ],
   "source": [
    "print('Пульс')\n",
    "print(df1['pulse'].std())\n",
    "print(np.std(df1['pulse'], ddof=1)) # дельта степеней свободы в numpy по-умолчанию 0\n",
    "\n",
    "#print('Вес')\n",
    "#print(df['Weight'].std())\n",
    "#print(np.std(df['Weight'], ddof=1))\n"
   ]
  },
  {
   "cell_type": "markdown",
   "metadata": {
    "colab_type": "text",
    "id": "6MsGMUEeGLnX"
   },
   "source": [
    "# Дисперсия"
   ]
  },
  {
   "cell_type": "code",
   "execution_count": 148,
   "metadata": {
    "colab": {
     "base_uri": "https://localhost:8080/",
     "height": 34
    },
    "colab_type": "code",
    "id": "xgh0WUa9XpKw",
    "outputId": "f459e525-5979-46cb-9e12-ed8ac4506fdf",
    "scrolled": true
   },
   "outputs": [
    {
     "name": "stdout",
     "output_type": "stream",
     "text": [
      "nan\n",
      "nan\n"
     ]
    }
   ],
   "source": [
    "# ручной подсчет\n",
    "def disp(nums):\n",
    "    diffs = 0\n",
    "    # считаем среднее значение\n",
    "    avg = sum(nums)/len(nums)\n",
    "    for n in nums:\n",
    "        # считаем сумму квадратичных отклонений\n",
    "        diffs += (n - avg)**(2)\n",
    "    # считаем среднеквадратичного значения\n",
    "    return diffs/(len(nums)-1)\n",
    "\n",
    "print(disp(df1.pulse))\n",
    "print(disp(df1.rectal_temperature))"
   ]
  },
  {
   "cell_type": "code",
   "execution_count": 149,
   "metadata": {
    "colab": {
     "base_uri": "https://localhost:8080/",
     "height": 34
    },
    "colab_type": "code",
    "id": "addZ1sLdghk5",
    "outputId": "bcac056d-cac0-4050-de5e-84bef7e7e230"
   },
   "outputs": [
    {
     "name": "stdout",
     "output_type": "stream",
     "text": [
      "Пульс\n",
      "822.5723424021243\n",
      "822.5723424021243\n",
      "Темпиратура\n",
      "0.5380345276185787\n",
      "0.5380345276185787\n"
     ]
    }
   ],
   "source": [
    "print('Пульс')\n",
    "print(np.var(df1['pulse'], ddof=1))\n",
    "print(df1['pulse'].var())\n",
    "\n",
    "print('Темпиратура')\n",
    "print(np.var(df1['rectal_temperature'], ddof=1))\n",
    "print(df1['rectal_temperature'].var())"
   ]
  },
  {
   "cell_type": "markdown",
   "metadata": {},
   "source": [
    "# Квантили"
   ]
  },
  {
   "cell_type": "code",
   "execution_count": 150,
   "metadata": {},
   "outputs": [
    {
     "data": {
      "text/plain": [
       "64.0"
      ]
     },
     "execution_count": 150,
     "metadata": {},
     "output_type": "execute_result"
    }
   ],
   "source": [
    "# это же медиана!\n",
    "df1['pulse'].quantile()"
   ]
  },
  {
   "cell_type": "code",
   "execution_count": 151,
   "metadata": {},
   "outputs": [
    {
     "data": {
      "text/plain": [
       "0.25    48.0\n",
       "0.75    88.0\n",
       "Name: pulse, dtype: float64"
      ]
     },
     "execution_count": 151,
     "metadata": {},
     "output_type": "execute_result"
    }
   ],
   "source": [
    "# первый и третий квартили\n",
    "df1['pulse'].quantile([0.25, 0.75])"
   ]
  },
  {
   "cell_type": "code",
   "execution_count": 152,
   "metadata": {
    "scrolled": true
   },
   "outputs": [
    {
     "data": {
      "text/plain": [
       "52.0"
      ]
     },
     "execution_count": 152,
     "metadata": {},
     "output_type": "execute_result"
    }
   ],
   "source": [
    "# произвольный перцентиль\n",
    "df1['pulse'].quantile(0.33)"
   ]
  },
  {
   "cell_type": "code",
   "execution_count": 153,
   "metadata": {},
   "outputs": [
    {
     "data": {
      "text/plain": [
       "40.0"
      ]
     },
     "execution_count": 153,
     "metadata": {},
     "output_type": "execute_result"
    }
   ],
   "source": [
    "# межквартильный размах\n",
    "Q1 = df1['pulse'].quantile(0.25)\n",
    "Q3 = df1['pulse'].quantile(0.75)\n",
    "IQR = Q3 - Q1\n",
    "IQR"
   ]
  },
  {
   "cell_type": "markdown",
   "metadata": {},
   "source": [
    "# Describe"
   ]
  },
  {
   "cell_type": "code",
   "execution_count": 154,
   "metadata": {},
   "outputs": [
    {
     "data": {
      "text/html": [
       "<div>\n",
       "<style scoped>\n",
       "    .dataframe tbody tr th:only-of-type {\n",
       "        vertical-align: middle;\n",
       "    }\n",
       "\n",
       "    .dataframe tbody tr th {\n",
       "        vertical-align: top;\n",
       "    }\n",
       "\n",
       "    .dataframe thead th {\n",
       "        text-align: right;\n",
       "    }\n",
       "</style>\n",
       "<table border=\"1\" class=\"dataframe\">\n",
       "  <thead>\n",
       "    <tr style=\"text-align: right;\">\n",
       "      <th></th>\n",
       "      <th>surgery?</th>\n",
       "      <th>Age</th>\n",
       "      <th>rectal_temperature</th>\n",
       "      <th>pulse</th>\n",
       "      <th>respiratory_rate</th>\n",
       "      <th>temperature_of_extremities</th>\n",
       "      <th>pain</th>\n",
       "      <th>outcome</th>\n",
       "    </tr>\n",
       "  </thead>\n",
       "  <tbody>\n",
       "    <tr>\n",
       "      <th>count</th>\n",
       "      <td>298.000000</td>\n",
       "      <td>299.00000</td>\n",
       "      <td>239.000000</td>\n",
       "      <td>275.000000</td>\n",
       "      <td>241.000000</td>\n",
       "      <td>243.000000</td>\n",
       "      <td>244.000000</td>\n",
       "      <td>298.000000</td>\n",
       "    </tr>\n",
       "    <tr>\n",
       "      <th>mean</th>\n",
       "      <td>1.395973</td>\n",
       "      <td>1.64214</td>\n",
       "      <td>38.166527</td>\n",
       "      <td>71.934545</td>\n",
       "      <td>30.427386</td>\n",
       "      <td>2.345679</td>\n",
       "      <td>2.942623</td>\n",
       "      <td>1.550336</td>\n",
       "    </tr>\n",
       "    <tr>\n",
       "      <th>std</th>\n",
       "      <td>0.489881</td>\n",
       "      <td>2.17730</td>\n",
       "      <td>0.733508</td>\n",
       "      <td>28.680522</td>\n",
       "      <td>17.678256</td>\n",
       "      <td>1.046369</td>\n",
       "      <td>1.303993</td>\n",
       "      <td>0.737967</td>\n",
       "    </tr>\n",
       "    <tr>\n",
       "      <th>min</th>\n",
       "      <td>1.000000</td>\n",
       "      <td>1.00000</td>\n",
       "      <td>35.400000</td>\n",
       "      <td>30.000000</td>\n",
       "      <td>8.000000</td>\n",
       "      <td>1.000000</td>\n",
       "      <td>1.000000</td>\n",
       "      <td>1.000000</td>\n",
       "    </tr>\n",
       "    <tr>\n",
       "      <th>25%</th>\n",
       "      <td>1.000000</td>\n",
       "      <td>1.00000</td>\n",
       "      <td>37.800000</td>\n",
       "      <td>48.000000</td>\n",
       "      <td>18.000000</td>\n",
       "      <td>1.000000</td>\n",
       "      <td>2.000000</td>\n",
       "      <td>1.000000</td>\n",
       "    </tr>\n",
       "    <tr>\n",
       "      <th>50%</th>\n",
       "      <td>1.000000</td>\n",
       "      <td>1.00000</td>\n",
       "      <td>38.200000</td>\n",
       "      <td>64.000000</td>\n",
       "      <td>24.000000</td>\n",
       "      <td>3.000000</td>\n",
       "      <td>3.000000</td>\n",
       "      <td>1.000000</td>\n",
       "    </tr>\n",
       "    <tr>\n",
       "      <th>75%</th>\n",
       "      <td>2.000000</td>\n",
       "      <td>1.00000</td>\n",
       "      <td>38.500000</td>\n",
       "      <td>88.000000</td>\n",
       "      <td>36.000000</td>\n",
       "      <td>3.000000</td>\n",
       "      <td>4.000000</td>\n",
       "      <td>2.000000</td>\n",
       "    </tr>\n",
       "    <tr>\n",
       "      <th>max</th>\n",
       "      <td>2.000000</td>\n",
       "      <td>9.00000</td>\n",
       "      <td>40.800000</td>\n",
       "      <td>184.000000</td>\n",
       "      <td>96.000000</td>\n",
       "      <td>4.000000</td>\n",
       "      <td>5.000000</td>\n",
       "      <td>3.000000</td>\n",
       "    </tr>\n",
       "  </tbody>\n",
       "</table>\n",
       "</div>"
      ],
      "text/plain": [
       "         surgery?        Age  rectal_temperature       pulse  \\\n",
       "count  298.000000  299.00000          239.000000  275.000000   \n",
       "mean     1.395973    1.64214           38.166527   71.934545   \n",
       "std      0.489881    2.17730            0.733508   28.680522   \n",
       "min      1.000000    1.00000           35.400000   30.000000   \n",
       "25%      1.000000    1.00000           37.800000   48.000000   \n",
       "50%      1.000000    1.00000           38.200000   64.000000   \n",
       "75%      2.000000    1.00000           38.500000   88.000000   \n",
       "max      2.000000    9.00000           40.800000  184.000000   \n",
       "\n",
       "       respiratory_rate  temperature_of_extremities        pain     outcome  \n",
       "count        241.000000                  243.000000  244.000000  298.000000  \n",
       "mean          30.427386                    2.345679    2.942623    1.550336  \n",
       "std           17.678256                    1.046369    1.303993    0.737967  \n",
       "min            8.000000                    1.000000    1.000000    1.000000  \n",
       "25%           18.000000                    1.000000    2.000000    1.000000  \n",
       "50%           24.000000                    3.000000    3.000000    1.000000  \n",
       "75%           36.000000                    3.000000    4.000000    2.000000  \n",
       "max           96.000000                    4.000000    5.000000    3.000000  "
      ]
     },
     "execution_count": 154,
     "metadata": {},
     "output_type": "execute_result"
    }
   ],
   "source": [
    "df1.describe()"
   ]
  },
  {
   "cell_type": "markdown",
   "metadata": {},
   "source": [
    "# Выбросы"
   ]
  },
  {
   "cell_type": "code",
   "execution_count": 155,
   "metadata": {},
   "outputs": [
    {
     "name": "stdout",
     "output_type": "stream",
     "text": [
      "Пульс\n",
      "71.93454545454546\n",
      "71.16296296296296\n",
      "Темпиратура\n",
      "38.166527196652744\n",
      "38.44699453551913\n"
     ]
    }
   ],
   "source": [
    "# произвольные выбросы значений по пульсу и темпиратуре \n",
    "print('Пульс')\n",
    "print(df1['pulse'].mean())\n",
    "print(df1[(df1['pulse'] > 30) & (df1['pulse'] <=154)]['pulse'].mean())\n",
    "\n",
    "print('Темпиратура')\n",
    "print(df1['rectal_temperature'].mean())\n",
    "print(df1[(df1['rectal_temperature'] >= 37.8) & (df1['rectal_temperature'] < 50)]['rectal_temperature'].mean())\n"
   ]
  },
  {
   "cell_type": "code",
   "execution_count": 156,
   "metadata": {},
   "outputs": [
    {
     "name": "stdout",
     "output_type": "stream",
     "text": [
      "64.0\n",
      "64.0\n"
     ]
    }
   ],
   "source": [
    "# медиана\n",
    "print(df1['pulse'].median())\n",
    "print(df1[(df1['pulse'] > 30) & (df1['pulse'] <= 154)]['pulse'].median())"
   ]
  },
  {
   "cell_type": "code",
   "execution_count": 157,
   "metadata": {},
   "outputs": [
    {
     "name": "stdout",
     "output_type": "stream",
     "text": [
      "48.0\n",
      "48.0\n"
     ]
    }
   ],
   "source": [
    "# мода\n",
    "print(df1['pulse'].round().mode()[0])\n",
    "print(df1[(df1['pulse'] > 30) & (df1['pulse'] <= 154)]['pulse'].round().mode()[0])"
   ]
  },
  {
   "cell_type": "code",
   "execution_count": 158,
   "metadata": {},
   "outputs": [
    {
     "ename": "NameError",
     "evalue": "name 'remove_outliers' is not defined",
     "output_type": "error",
     "traceback": [
      "\u001b[1;31m---------------------------------------------------------------------------\u001b[0m",
      "\u001b[1;31mNameError\u001b[0m                                 Traceback (most recent call last)",
      "\u001b[1;32m<ipython-input-158-78182aabbc59>\u001b[0m in \u001b[0;36m<module>\u001b[1;34m\u001b[0m\n\u001b[0;32m      1\u001b[0m \u001b[1;31m#Выбросы через межквартильный размах (по пульсу)\u001b[0m\u001b[1;33m\u001b[0m\u001b[1;33m\u001b[0m\u001b[1;33m\u001b[0m\u001b[0m\n\u001b[0;32m      2\u001b[0m \u001b[1;31m#какой получили выброс\u001b[0m\u001b[1;33m\u001b[0m\u001b[1;33m\u001b[0m\u001b[1;33m\u001b[0m\u001b[0m\n\u001b[1;32m----> 3\u001b[1;33m \u001b[0mpd\u001b[0m\u001b[1;33m.\u001b[0m\u001b[0mconcat\u001b[0m\u001b[1;33m(\u001b[0m\u001b[1;33m[\u001b[0m\u001b[0mdf1\u001b[0m\u001b[1;33m,\u001b[0m \u001b[0mremove_outliers\u001b[0m\u001b[1;33m]\u001b[0m\u001b[1;33m)\u001b[0m\u001b[1;33m.\u001b[0m\u001b[0mdrop_duplicates\u001b[0m\u001b[1;33m(\u001b[0m\u001b[0mkeep\u001b[0m\u001b[1;33m=\u001b[0m\u001b[1;32mFalse\u001b[0m\u001b[1;33m)\u001b[0m\u001b[1;33m\u001b[0m\u001b[1;33m\u001b[0m\u001b[0m\n\u001b[0m",
      "\u001b[1;31mNameError\u001b[0m: name 'remove_outliers' is not defined"
     ]
    }
   ],
   "source": [
    "#Выбросы через межквартильный размах (по пульсу) \n",
    "#какой получили выброс\n",
    "pd.concat([df1, remove_outliers]).drop_duplicates(keep=False)"
   ]
  },
  {
   "cell_type": "code",
   "execution_count": 159,
   "metadata": {},
   "outputs": [
    {
     "ename": "NameError",
     "evalue": "name 'remove_outliers' is not defined",
     "output_type": "error",
     "traceback": [
      "\u001b[1;31m---------------------------------------------------------------------------\u001b[0m",
      "\u001b[1;31mNameError\u001b[0m                                 Traceback (most recent call last)",
      "\u001b[1;32m<ipython-input-159-5cf1c0f5dc1d>\u001b[0m in \u001b[0;36m<module>\u001b[1;34m\u001b[0m\n\u001b[1;32m----> 1\u001b[1;33m \u001b[0mprint\u001b[0m\u001b[1;33m(\u001b[0m\u001b[0mremove_outliers\u001b[0m\u001b[1;33m[\u001b[0m\u001b[1;34m'pulse'\u001b[0m\u001b[1;33m]\u001b[0m\u001b[1;33m.\u001b[0m\u001b[0mmean\u001b[0m\u001b[1;33m(\u001b[0m\u001b[1;33m)\u001b[0m\u001b[1;33m)\u001b[0m\u001b[1;33m\u001b[0m\u001b[1;33m\u001b[0m\u001b[0m\n\u001b[0m\u001b[0;32m      2\u001b[0m \u001b[0mprint\u001b[0m\u001b[1;33m(\u001b[0m\u001b[0mremove_outliers\u001b[0m\u001b[1;33m[\u001b[0m\u001b[1;34m'pulse'\u001b[0m\u001b[1;33m]\u001b[0m\u001b[1;33m.\u001b[0m\u001b[0mmedian\u001b[0m\u001b[1;33m(\u001b[0m\u001b[1;33m)\u001b[0m\u001b[1;33m)\u001b[0m\u001b[1;33m\u001b[0m\u001b[1;33m\u001b[0m\u001b[0m\n",
      "\u001b[1;31mNameError\u001b[0m: name 'remove_outliers' is not defined"
     ]
    }
   ],
   "source": [
    "print(remove_outliers['pulse'].mean())\n",
    "print(remove_outliers['pulse'].median())"
   ]
  },
  {
   "cell_type": "code",
   "execution_count": 160,
   "metadata": {},
   "outputs": [
    {
     "ename": "NameError",
     "evalue": "name 'remove_outliers' is not defined",
     "output_type": "error",
     "traceback": [
      "\u001b[1;31m---------------------------------------------------------------------------\u001b[0m",
      "\u001b[1;31mNameError\u001b[0m                                 Traceback (most recent call last)",
      "\u001b[1;32m<ipython-input-160-ee9b30a4d56e>\u001b[0m in \u001b[0;36m<module>\u001b[1;34m\u001b[0m\n\u001b[1;32m----> 1\u001b[1;33m \u001b[0mprint\u001b[0m\u001b[1;33m(\u001b[0m\u001b[0mdf1\u001b[0m\u001b[1;33m[\u001b[0m\u001b[1;34m'pulse'\u001b[0m\u001b[1;33m]\u001b[0m\u001b[1;33m.\u001b[0m\u001b[0mmean\u001b[0m\u001b[1;33m(\u001b[0m\u001b[1;33m)\u001b[0m \u001b[1;33m-\u001b[0m \u001b[0mremove_outliers\u001b[0m\u001b[1;33m[\u001b[0m\u001b[1;34m'pulse'\u001b[0m\u001b[1;33m]\u001b[0m\u001b[1;33m.\u001b[0m\u001b[0mmean\u001b[0m\u001b[1;33m(\u001b[0m\u001b[1;33m)\u001b[0m\u001b[1;33m)\u001b[0m\u001b[1;33m\u001b[0m\u001b[1;33m\u001b[0m\u001b[0m\n\u001b[0m",
      "\u001b[1;31mNameError\u001b[0m: name 'remove_outliers' is not defined"
     ]
    }
   ],
   "source": [
    "print(df1['pulse'].mean() - remove_outliers['pulse'].mean())"
   ]
  },
  {
   "cell_type": "code",
   "execution_count": 161,
   "metadata": {},
   "outputs": [
    {
     "ename": "NameError",
     "evalue": "name 'remove_outliers' is not defined",
     "output_type": "error",
     "traceback": [
      "\u001b[1;31m---------------------------------------------------------------------------\u001b[0m",
      "\u001b[1;31mNameError\u001b[0m                                 Traceback (most recent call last)",
      "\u001b[1;32m<ipython-input-161-c740b3201629>\u001b[0m in \u001b[0;36m<module>\u001b[1;34m\u001b[0m\n\u001b[1;32m----> 1\u001b[1;33m \u001b[0mprint\u001b[0m\u001b[1;33m(\u001b[0m\u001b[0mdf1\u001b[0m\u001b[1;33m[\u001b[0m\u001b[1;34m'pulse'\u001b[0m\u001b[1;33m]\u001b[0m\u001b[1;33m.\u001b[0m\u001b[0mmedian\u001b[0m\u001b[1;33m(\u001b[0m\u001b[1;33m)\u001b[0m \u001b[1;33m-\u001b[0m \u001b[0mremove_outliers\u001b[0m\u001b[1;33m[\u001b[0m\u001b[1;34m'pulse'\u001b[0m\u001b[1;33m]\u001b[0m\u001b[1;33m.\u001b[0m\u001b[0mmedian\u001b[0m\u001b[1;33m(\u001b[0m\u001b[1;33m)\u001b[0m\u001b[1;33m)\u001b[0m\u001b[1;33m\u001b[0m\u001b[1;33m\u001b[0m\u001b[0m\n\u001b[0m",
      "\u001b[1;31mNameError\u001b[0m: name 'remove_outliers' is not defined"
     ]
    }
   ],
   "source": [
    "print(df1['pulse'].median() - remove_outliers['pulse'].median())"
   ]
  },
  {
   "cell_type": "markdown",
   "metadata": {},
   "source": [
    "# Пропуски"
   ]
  },
  {
   "cell_type": "code",
   "execution_count": 162,
   "metadata": {},
   "outputs": [
    {
     "name": "stdout",
     "output_type": "stream",
     "text": [
      "     surgery?  Age  rectal_temperature  pulse  respiratory_rate  \\\n",
      "0         1.0    1                39.2   88.0              20.0   \n",
      "1         2.0    1                38.3   40.0              24.0   \n",
      "2         1.0    9                39.1  164.0              84.0   \n",
      "3         2.0    1                37.3  104.0              35.0   \n",
      "4         2.0    1                 NaN    NaN               NaN   \n",
      "..        ...  ...                 ...    ...               ...   \n",
      "294       1.0    1                 NaN  120.0              70.0   \n",
      "295       2.0    1                37.2   72.0              24.0   \n",
      "296       1.0    1                37.5   72.0              30.0   \n",
      "297       1.0    1                36.5  100.0              24.0   \n",
      "298       1.0    1                37.2   40.0              20.0   \n",
      "\n",
      "     temperature_of_extremities  pain  outcome  \n",
      "0                           NaN   3.0      3.0  \n",
      "1                           1.0   3.0      1.0  \n",
      "2                           4.0   2.0      2.0  \n",
      "3                           NaN   NaN      2.0  \n",
      "4                           2.0   2.0      1.0  \n",
      "..                          ...   ...      ...  \n",
      "294                         4.0   2.0      3.0  \n",
      "295                         3.0   4.0      3.0  \n",
      "296                         4.0   4.0      2.0  \n",
      "297                         3.0   3.0      1.0  \n",
      "298                         NaN   NaN      3.0  \n",
      "\n",
      "[299 rows x 8 columns]\n"
     ]
    }
   ],
   "source": [
    "#Задание 3. Работа с пропусками\n",
    "#Рассчитать количество пропусков для всех выбранных столбцов. \n",
    "#Принять и обосновать решение о методе заполнения пропусков по каждому столбцу на основе рассчитанных статистик\n",
    "#и возможной взаимосвязи значений в них. Сформировать датафрейм, в котором пропуски будут отсутствовать.\n",
    "\n",
    "# С новым набором столбцов (8 штук ) DataFrame df1  \n",
    "print(df1)\n"
   ]
  },
  {
   "cell_type": "code",
   "execution_count": 163,
   "metadata": {},
   "outputs": [
    {
     "name": "stdout",
     "output_type": "stream",
     "text": [
      "<class 'pandas.core.frame.DataFrame'>\n",
      "RangeIndex: 299 entries, 0 to 298\n",
      "Data columns (total 8 columns):\n",
      " #   Column                      Non-Null Count  Dtype  \n",
      "---  ------                      --------------  -----  \n",
      " 0   surgery?                    298 non-null    float64\n",
      " 1   Age                         299 non-null    int64  \n",
      " 2   rectal_temperature          239 non-null    float64\n",
      " 3   pulse                       275 non-null    float64\n",
      " 4   respiratory_rate            241 non-null    float64\n",
      " 5   temperature_of_extremities  243 non-null    float64\n",
      " 6   pain                        244 non-null    float64\n",
      " 7   outcome                     298 non-null    float64\n",
      "dtypes: float64(7), int64(1)\n",
      "memory usage: 18.8 KB\n"
     ]
    }
   ],
   "source": [
    "df1.info()\n",
    "# пустых нет, но естьпропуски данных, заполненные символом 'NaN'"
   ]
  },
  {
   "cell_type": "code",
   "execution_count": 164,
   "metadata": {},
   "outputs": [
    {
     "data": {
      "text/plain": [
       "surgery?                       0.33\n",
       "Age                            0.00\n",
       "rectal_temperature            20.07\n",
       "pulse                          8.03\n",
       "respiratory_rate              19.40\n",
       "temperature_of_extremities    18.73\n",
       "pain                          18.39\n",
       "outcome                        0.33\n",
       "dtype: float64"
      ]
     },
     "execution_count": 164,
     "metadata": {},
     "output_type": "execute_result"
    }
   ],
   "source": [
    "(df1.isna().mean() * 100).round(2)"
   ]
  },
  {
   "cell_type": "markdown",
   "metadata": {},
   "source": [
    "## Игнорирование пропусков"
   ]
  },
  {
   "cell_type": "code",
   "execution_count": 165,
   "metadata": {},
   "outputs": [
    {
     "name": "stdout",
     "output_type": "stream",
     "text": [
      "1.6421404682274248\n",
      "1.0\n",
      "1\n",
      "2.1772997793587714\n",
      "4.740634329195755\n"
     ]
    }
   ],
   "source": [
    "# все методы pandas по-умолчанию не берут в расчет пропуски, расчет статистик \n",
    "print(df1.Age.mean())\n",
    "print(df1.Age.median())\n",
    "print(df1.Age.mode()[0])\n",
    "\n",
    "print(df1.Age.std())\n",
    "print(df1.Age.var())"
   ]
  },
  {
   "cell_type": "markdown",
   "metadata": {},
   "source": [
    "## Удаление строк с пропусками"
   ]
  },
  {
   "cell_type": "code",
   "execution_count": 166,
   "metadata": {},
   "outputs": [
    {
     "name": "stdout",
     "output_type": "stream",
     "text": [
      "<class 'pandas.core.frame.DataFrame'>\n",
      "Int64Index: 153 entries, 1 to 297\n",
      "Data columns (total 8 columns):\n",
      " #   Column                      Non-Null Count  Dtype  \n",
      "---  ------                      --------------  -----  \n",
      " 0   surgery?                    153 non-null    float64\n",
      " 1   Age                         153 non-null    int64  \n",
      " 2   rectal_temperature          153 non-null    float64\n",
      " 3   pulse                       153 non-null    float64\n",
      " 4   respiratory_rate            153 non-null    float64\n",
      " 5   temperature_of_extremities  153 non-null    float64\n",
      " 6   pain                        153 non-null    float64\n",
      " 7   outcome                     153 non-null    float64\n",
      "dtypes: float64(7), int64(1)\n",
      "memory usage: 10.8 KB\n"
     ]
    }
   ],
   "source": [
    "# пропуски встречаются во всех столбцах кроме Age(Возраста) удалим пропуски\n",
    "# при этом количество записей стало значительно меньше\n",
    "# так как в качестве незначимого символа используется \"NaN\" и судя по описанию значение 0 не испольуется в полях.\n",
    "\n",
    "df1.dropna().info()"
   ]
  },
  {
   "cell_type": "code",
   "execution_count": 167,
   "metadata": {},
   "outputs": [
    {
     "name": "stdout",
     "output_type": "stream",
     "text": [
      "1.6274509803921569\n",
      "1.0\n",
      "1\n",
      "2.157856980716289\n",
      "4.656346749226018\n"
     ]
    }
   ],
   "source": [
    "# посмотрим на сколько исказились статистики, если удалить все строки с пропусками\n",
    "print(df1.dropna()['Age'].mean())\n",
    "print(df1.dropna()['Age'].median())\n",
    "print(df1.dropna()['Age'].mode()[0])\n",
    "\n",
    "print(df1.dropna()['Age'].std())\n",
    "print(df1.dropna()['Age'].var())"
   ]
  },
  {
   "cell_type": "code",
   "execution_count": 168,
   "metadata": {},
   "outputs": [
    {
     "data": {
      "text/html": [
       "<div>\n",
       "<style scoped>\n",
       "    .dataframe tbody tr th:only-of-type {\n",
       "        vertical-align: middle;\n",
       "    }\n",
       "\n",
       "    .dataframe tbody tr th {\n",
       "        vertical-align: top;\n",
       "    }\n",
       "\n",
       "    .dataframe thead th {\n",
       "        text-align: right;\n",
       "    }\n",
       "</style>\n",
       "<table border=\"1\" class=\"dataframe\">\n",
       "  <thead>\n",
       "    <tr style=\"text-align: right;\">\n",
       "      <th></th>\n",
       "      <th>surgery?</th>\n",
       "      <th>Age</th>\n",
       "      <th>rectal_temperature</th>\n",
       "      <th>pulse</th>\n",
       "      <th>respiratory_rate</th>\n",
       "      <th>temperature_of_extremities</th>\n",
       "      <th>pain</th>\n",
       "      <th>outcome</th>\n",
       "    </tr>\n",
       "  </thead>\n",
       "  <tbody>\n",
       "    <tr>\n",
       "      <th>1</th>\n",
       "      <td>2.0</td>\n",
       "      <td>1</td>\n",
       "      <td>38.3</td>\n",
       "      <td>40.0</td>\n",
       "      <td>24.0</td>\n",
       "      <td>1.0</td>\n",
       "      <td>3.0</td>\n",
       "      <td>1.0</td>\n",
       "    </tr>\n",
       "    <tr>\n",
       "      <th>2</th>\n",
       "      <td>1.0</td>\n",
       "      <td>9</td>\n",
       "      <td>39.1</td>\n",
       "      <td>164.0</td>\n",
       "      <td>84.0</td>\n",
       "      <td>4.0</td>\n",
       "      <td>2.0</td>\n",
       "      <td>2.0</td>\n",
       "    </tr>\n",
       "    <tr>\n",
       "      <th>5</th>\n",
       "      <td>1.0</td>\n",
       "      <td>1</td>\n",
       "      <td>37.9</td>\n",
       "      <td>48.0</td>\n",
       "      <td>16.0</td>\n",
       "      <td>1.0</td>\n",
       "      <td>3.0</td>\n",
       "      <td>1.0</td>\n",
       "    </tr>\n",
       "    <tr>\n",
       "      <th>9</th>\n",
       "      <td>1.0</td>\n",
       "      <td>1</td>\n",
       "      <td>38.1</td>\n",
       "      <td>66.0</td>\n",
       "      <td>12.0</td>\n",
       "      <td>3.0</td>\n",
       "      <td>3.0</td>\n",
       "      <td>1.0</td>\n",
       "    </tr>\n",
       "    <tr>\n",
       "      <th>10</th>\n",
       "      <td>2.0</td>\n",
       "      <td>1</td>\n",
       "      <td>39.1</td>\n",
       "      <td>72.0</td>\n",
       "      <td>52.0</td>\n",
       "      <td>2.0</td>\n",
       "      <td>2.0</td>\n",
       "      <td>1.0</td>\n",
       "    </tr>\n",
       "  </tbody>\n",
       "</table>\n",
       "</div>"
      ],
      "text/plain": [
       "    surgery?  Age  rectal_temperature  pulse  respiratory_rate  \\\n",
       "1        2.0    1                38.3   40.0              24.0   \n",
       "2        1.0    9                39.1  164.0              84.0   \n",
       "5        1.0    1                37.9   48.0              16.0   \n",
       "9        1.0    1                38.1   66.0              12.0   \n",
       "10       2.0    1                39.1   72.0              52.0   \n",
       "\n",
       "    temperature_of_extremities  pain  outcome  \n",
       "1                          1.0   3.0      1.0  \n",
       "2                          4.0   2.0      2.0  \n",
       "5                          1.0   3.0      1.0  \n",
       "9                          3.0   3.0      1.0  \n",
       "10                         2.0   2.0      1.0  "
      ]
     },
     "execution_count": 168,
     "metadata": {},
     "output_type": "execute_result"
    }
   ],
   "source": [
    "#Дата фрейм с удаленными пропусками\n",
    "df2=df1.dropna()\n",
    "df2.head()"
   ]
  },
  {
   "cell_type": "markdown",
   "metadata": {},
   "source": [
    "\n",
    "# Заполнение пропусков\n"
   ]
  },
  {
   "cell_type": "code",
   "execution_count": 169,
   "metadata": {},
   "outputs": [
    {
     "data": {
      "text/plain": [
       "array([ 3.,  2., nan,  4.,  5.,  1.])"
      ]
     },
     "execution_count": 169,
     "metadata": {},
     "output_type": "execute_result"
    }
   ],
   "source": [
    "# Столбец surgery\n",
    "#Если значение поля Pain = 4 или =5,т.е боль сильная,\n",
    "#то скороее всего такому животному сделали операцию,то в поле surgery проставляем 1.\n",
    "df1['pain'].unique()"
   ]
  },
  {
   "cell_type": "code",
   "execution_count": 170,
   "metadata": {},
   "outputs": [
    {
     "data": {
      "text/html": [
       "<div>\n",
       "<style scoped>\n",
       "    .dataframe tbody tr th:only-of-type {\n",
       "        vertical-align: middle;\n",
       "    }\n",
       "\n",
       "    .dataframe tbody tr th {\n",
       "        vertical-align: top;\n",
       "    }\n",
       "\n",
       "    .dataframe thead th {\n",
       "        text-align: right;\n",
       "    }\n",
       "</style>\n",
       "<table border=\"1\" class=\"dataframe\">\n",
       "  <thead>\n",
       "    <tr style=\"text-align: right;\">\n",
       "      <th></th>\n",
       "      <th>surgery?</th>\n",
       "      <th>Age</th>\n",
       "      <th>rectal_temperature</th>\n",
       "      <th>pulse</th>\n",
       "      <th>respiratory_rate</th>\n",
       "      <th>temperature_of_extremities</th>\n",
       "      <th>pain</th>\n",
       "      <th>outcome</th>\n",
       "    </tr>\n",
       "  </thead>\n",
       "  <tbody>\n",
       "    <tr>\n",
       "      <th>131</th>\n",
       "      <td>NaN</td>\n",
       "      <td>1</td>\n",
       "      <td>38.0</td>\n",
       "      <td>48.0</td>\n",
       "      <td>20.0</td>\n",
       "      <td>3.0</td>\n",
       "      <td>4.0</td>\n",
       "      <td>NaN</td>\n",
       "    </tr>\n",
       "  </tbody>\n",
       "</table>\n",
       "</div>"
      ],
      "text/plain": [
       "     surgery?  Age  rectal_temperature  pulse  respiratory_rate  \\\n",
       "131       NaN    1                38.0   48.0              20.0   \n",
       "\n",
       "     temperature_of_extremities  pain  outcome  \n",
       "131                         3.0   4.0      NaN  "
      ]
     },
     "execution_count": 170,
     "metadata": {},
     "output_type": "execute_result"
    }
   ],
   "source": [
    "# условие \n",
    "df1[((df1['pain']==4) | (df1['pain']==5)) & df1['surgery?'].isnull()]"
   ]
  },
  {
   "cell_type": "code",
   "execution_count": 171,
   "metadata": {},
   "outputs": [],
   "source": [
    "#замена\n",
    "df['surgery?'] = np.where(((df1['pain']==4) | (df1['pain']==5)) & df1['surgery?'].isnull(),'1.0', df1['surgery?'] )"
   ]
  },
  {
   "cell_type": "code",
   "execution_count": 172,
   "metadata": {},
   "outputs": [
    {
     "data": {
      "text/html": [
       "<div>\n",
       "<style scoped>\n",
       "    .dataframe tbody tr th:only-of-type {\n",
       "        vertical-align: middle;\n",
       "    }\n",
       "\n",
       "    .dataframe tbody tr th {\n",
       "        vertical-align: top;\n",
       "    }\n",
       "\n",
       "    .dataframe thead th {\n",
       "        text-align: right;\n",
       "    }\n",
       "</style>\n",
       "<table border=\"1\" class=\"dataframe\">\n",
       "  <thead>\n",
       "    <tr style=\"text-align: right;\">\n",
       "      <th></th>\n",
       "      <th>surgery?</th>\n",
       "      <th>Age</th>\n",
       "      <th>rectal_temperature</th>\n",
       "      <th>pulse</th>\n",
       "      <th>respiratory_rate</th>\n",
       "      <th>temperature_of_extremities</th>\n",
       "      <th>pain</th>\n",
       "      <th>outcome</th>\n",
       "    </tr>\n",
       "  </thead>\n",
       "  <tbody>\n",
       "    <tr>\n",
       "      <th>4</th>\n",
       "      <td>2.0</td>\n",
       "      <td>1</td>\n",
       "      <td>NaN</td>\n",
       "      <td>NaN</td>\n",
       "      <td>NaN</td>\n",
       "      <td>2.0</td>\n",
       "      <td>2.0</td>\n",
       "      <td>1.0</td>\n",
       "    </tr>\n",
       "    <tr>\n",
       "      <th>56</th>\n",
       "      <td>1.0</td>\n",
       "      <td>1</td>\n",
       "      <td>NaN</td>\n",
       "      <td>64.0</td>\n",
       "      <td>36.0</td>\n",
       "      <td>2.0</td>\n",
       "      <td>5.0</td>\n",
       "      <td>2.0</td>\n",
       "    </tr>\n",
       "    <tr>\n",
       "      <th>111</th>\n",
       "      <td>1.0</td>\n",
       "      <td>1</td>\n",
       "      <td>NaN</td>\n",
       "      <td>40.0</td>\n",
       "      <td>NaN</td>\n",
       "      <td>2.0</td>\n",
       "      <td>1.0</td>\n",
       "      <td>1.0</td>\n",
       "    </tr>\n",
       "    <tr>\n",
       "      <th>190</th>\n",
       "      <td>2.0</td>\n",
       "      <td>9</td>\n",
       "      <td>NaN</td>\n",
       "      <td>100.0</td>\n",
       "      <td>44.0</td>\n",
       "      <td>2.0</td>\n",
       "      <td>4.0</td>\n",
       "      <td>1.0</td>\n",
       "    </tr>\n",
       "  </tbody>\n",
       "</table>\n",
       "</div>"
      ],
      "text/plain": [
       "     surgery?  Age  rectal_temperature  pulse  respiratory_rate  \\\n",
       "4         2.0    1                 NaN    NaN               NaN   \n",
       "56        1.0    1                 NaN   64.0              36.0   \n",
       "111       1.0    1                 NaN   40.0               NaN   \n",
       "190       2.0    9                 NaN  100.0              44.0   \n",
       "\n",
       "     temperature_of_extremities  pain  outcome  \n",
       "4                           2.0   2.0      1.0  \n",
       "56                          2.0   5.0      2.0  \n",
       "111                         2.0   1.0      1.0  \n",
       "190                         2.0   4.0      1.0  "
      ]
     },
     "execution_count": 172,
     "metadata": {},
     "output_type": "execute_result"
    }
   ],
   "source": [
    "#Заполнение пропусков в столбце temperature_of_extremities\n",
    "#Если значение поля  temperature_of_extremities = 2, т.е конечности теплые,\n",
    "#то rectal temperature(ректальная температура) высокая и \n",
    "#можно заполнить максимальным значением.\n",
    "df1[ (df1['temperature_of_extremities']==2 ) & (df1['rectal_temperature'].isnull())]\n",
    "\n",
    "#df.loc[df.Color == 'Green']\n",
    "#df.loc[(df['First Season'] > 1990)] = 1"
   ]
  },
  {
   "cell_type": "code",
   "execution_count": 173,
   "metadata": {},
   "outputs": [],
   "source": [
    "#замена\n",
    "df['rectal_temperature'] = np.where( (df1['temperature_of_extremities']==2 ) & (df1['rectal_temperature'].isnull()), df1['rectal_temperature'].mean(), df1['surgery?'] )"
   ]
  },
  {
   "cell_type": "code",
   "execution_count": 174,
   "metadata": {},
   "outputs": [
    {
     "data": {
      "text/plain": [
       "array([1, 9], dtype=int64)"
      ]
     },
     "execution_count": 174,
     "metadata": {},
     "output_type": "execute_result"
    }
   ],
   "source": [
    "# замена в столбце age значений \n",
    "df1['Age'].unique()\n"
   ]
  },
  {
   "cell_type": "code",
   "execution_count": 175,
   "metadata": {},
   "outputs": [
    {
     "name": "stdout",
     "output_type": "stream",
     "text": [
      "0      1\n",
      "1      1\n",
      "2      2\n",
      "3      1\n",
      "4      1\n",
      "      ..\n",
      "294    1\n",
      "295    1\n",
      "296    1\n",
      "297    1\n",
      "298    1\n",
      "Name: Age, Length: 299, dtype: int64\n"
     ]
    }
   ],
   "source": [
    "# заменим 9 на 2,что  соотвествует взрослой лошади\n",
    "print(df1['Age'].replace([9], 2))"
   ]
  },
  {
   "cell_type": "code",
   "execution_count": 176,
   "metadata": {},
   "outputs": [
    {
     "ename": "SyntaxError",
     "evalue": "invalid syntax (<ipython-input-176-3d42fe7dc7cb>, line 1)",
     "output_type": "error",
     "traceback": [
      "\u001b[1;36m  File \u001b[1;32m\"<ipython-input-176-3d42fe7dc7cb>\"\u001b[1;36m, line \u001b[1;32m1\u001b[0m\n\u001b[1;33m    surgery?                    298 non-null    float64\u001b[0m\n\u001b[1;37m           ^\u001b[0m\n\u001b[1;31mSyntaxError\u001b[0m\u001b[1;31m:\u001b[0m invalid syntax\n"
     ]
    }
   ],
   "source": [
    "surgery?                    298 non-null    float64\n",
    " 1   Age                         299 non-null    int64  \n",
    " 2   rectal_temperature          239 non-null    float64\n",
    " 3   pulse                       275 non-null    float64\n",
    " 4   respiratory_rate            241 non-null    float64\n",
    " 5   temperature_of_extremities  243 non-null    float64\n",
    " 6   pain                        244 non-null    float64\n",
    " 7   outcome  "
   ]
  },
  {
   "cell_type": "code",
   "execution_count": 177,
   "metadata": {},
   "outputs": [
    {
     "data": {
      "text/plain": [
       "array([ 88.,  40., 164., 104.,  nan,  48.,  60.,  80.,  90.,  66.,  72.,\n",
       "        42.,  92.,  76.,  96., 128.,  64., 110., 130., 108., 100., 112.,\n",
       "        52., 146., 150., 120., 140.,  84.,  46., 114., 160.,  54.,  56.,\n",
       "        38.,  98.,  50.,  44.,  70.,  78.,  49.,  30., 136., 132.,  65.,\n",
       "        86., 129.,  68.,  36.,  45., 124., 184.,  75.,  82.])"
      ]
     },
     "execution_count": 177,
     "metadata": {},
     "output_type": "execute_result"
    }
   ],
   "source": [
    "df1['pulse'].unique()"
   ]
  },
  {
   "cell_type": "code",
   "execution_count": 178,
   "metadata": {},
   "outputs": [
    {
     "data": {
      "text/plain": [
       "35.4"
      ]
     },
     "execution_count": 178,
     "metadata": {},
     "output_type": "execute_result"
    }
   ],
   "source": [
    "#Заполнение пропусков в столбце pulse\n",
    "# У животных с болезненными поражениями или страдающих от шока кровообращения\n",
    "# может быть повышенная частота сердечных сокращений\n",
    "#При этом, когда животное находится в состоянии позднего шока, температура может быть снижена.\n",
    "#Следовательно можно заполнить максимальным значением в столбеце pulse пустые ячейки,где значение\n",
    "#rectal_temperature имеет минимальное значение.\n",
    "df1['rectal_temperature'].min()\n"
   ]
  },
  {
   "cell_type": "code",
   "execution_count": 179,
   "metadata": {},
   "outputs": [
    {
     "data": {
      "text/plain": [
       "184.0"
      ]
     },
     "execution_count": 179,
     "metadata": {},
     "output_type": "execute_result"
    }
   ],
   "source": [
    "df1['pulse'].max()"
   ]
  },
  {
   "cell_type": "code",
   "execution_count": 180,
   "metadata": {},
   "outputs": [
    {
     "data": {
      "text/html": [
       "<div>\n",
       "<style scoped>\n",
       "    .dataframe tbody tr th:only-of-type {\n",
       "        vertical-align: middle;\n",
       "    }\n",
       "\n",
       "    .dataframe tbody tr th {\n",
       "        vertical-align: top;\n",
       "    }\n",
       "\n",
       "    .dataframe thead th {\n",
       "        text-align: right;\n",
       "    }\n",
       "</style>\n",
       "<table border=\"1\" class=\"dataframe\">\n",
       "  <thead>\n",
       "    <tr style=\"text-align: right;\">\n",
       "      <th></th>\n",
       "      <th>surgery?</th>\n",
       "      <th>Age</th>\n",
       "      <th>rectal_temperature</th>\n",
       "      <th>pulse</th>\n",
       "      <th>respiratory_rate</th>\n",
       "      <th>temperature_of_extremities</th>\n",
       "      <th>pain</th>\n",
       "      <th>outcome</th>\n",
       "    </tr>\n",
       "  </thead>\n",
       "  <tbody>\n",
       "    <tr>\n",
       "      <th>57</th>\n",
       "      <td>1.0</td>\n",
       "      <td>1</td>\n",
       "      <td>NaN</td>\n",
       "      <td>NaN</td>\n",
       "      <td>20.0</td>\n",
       "      <td>4.0</td>\n",
       "      <td>5.0</td>\n",
       "      <td>2.0</td>\n",
       "    </tr>\n",
       "    <tr>\n",
       "      <th>77</th>\n",
       "      <td>1.0</td>\n",
       "      <td>1</td>\n",
       "      <td>NaN</td>\n",
       "      <td>NaN</td>\n",
       "      <td>NaN</td>\n",
       "      <td>3.0</td>\n",
       "      <td>5.0</td>\n",
       "      <td>2.0</td>\n",
       "    </tr>\n",
       "    <tr>\n",
       "      <th>82</th>\n",
       "      <td>1.0</td>\n",
       "      <td>1</td>\n",
       "      <td>38.0</td>\n",
       "      <td>NaN</td>\n",
       "      <td>24.0</td>\n",
       "      <td>3.0</td>\n",
       "      <td>5.0</td>\n",
       "      <td>2.0</td>\n",
       "    </tr>\n",
       "    <tr>\n",
       "      <th>92</th>\n",
       "      <td>2.0</td>\n",
       "      <td>1</td>\n",
       "      <td>NaN</td>\n",
       "      <td>NaN</td>\n",
       "      <td>NaN</td>\n",
       "      <td>3.0</td>\n",
       "      <td>5.0</td>\n",
       "      <td>2.0</td>\n",
       "    </tr>\n",
       "    <tr>\n",
       "      <th>125</th>\n",
       "      <td>1.0</td>\n",
       "      <td>1</td>\n",
       "      <td>38.7</td>\n",
       "      <td>NaN</td>\n",
       "      <td>NaN</td>\n",
       "      <td>3.0</td>\n",
       "      <td>5.0</td>\n",
       "      <td>1.0</td>\n",
       "    </tr>\n",
       "    <tr>\n",
       "      <th>135</th>\n",
       "      <td>1.0</td>\n",
       "      <td>1</td>\n",
       "      <td>NaN</td>\n",
       "      <td>NaN</td>\n",
       "      <td>NaN</td>\n",
       "      <td>3.0</td>\n",
       "      <td>5.0</td>\n",
       "      <td>2.0</td>\n",
       "    </tr>\n",
       "    <tr>\n",
       "      <th>150</th>\n",
       "      <td>1.0</td>\n",
       "      <td>1</td>\n",
       "      <td>39.3</td>\n",
       "      <td>NaN</td>\n",
       "      <td>NaN</td>\n",
       "      <td>4.0</td>\n",
       "      <td>4.0</td>\n",
       "      <td>2.0</td>\n",
       "    </tr>\n",
       "    <tr>\n",
       "      <th>159</th>\n",
       "      <td>1.0</td>\n",
       "      <td>1</td>\n",
       "      <td>NaN</td>\n",
       "      <td>NaN</td>\n",
       "      <td>NaN</td>\n",
       "      <td>NaN</td>\n",
       "      <td>4.0</td>\n",
       "      <td>1.0</td>\n",
       "    </tr>\n",
       "    <tr>\n",
       "      <th>173</th>\n",
       "      <td>2.0</td>\n",
       "      <td>1</td>\n",
       "      <td>NaN</td>\n",
       "      <td>NaN</td>\n",
       "      <td>NaN</td>\n",
       "      <td>3.0</td>\n",
       "      <td>4.0</td>\n",
       "      <td>2.0</td>\n",
       "    </tr>\n",
       "    <tr>\n",
       "      <th>181</th>\n",
       "      <td>1.0</td>\n",
       "      <td>1</td>\n",
       "      <td>38.0</td>\n",
       "      <td>NaN</td>\n",
       "      <td>24.0</td>\n",
       "      <td>3.0</td>\n",
       "      <td>5.0</td>\n",
       "      <td>2.0</td>\n",
       "    </tr>\n",
       "    <tr>\n",
       "      <th>203</th>\n",
       "      <td>1.0</td>\n",
       "      <td>1</td>\n",
       "      <td>39.2</td>\n",
       "      <td>NaN</td>\n",
       "      <td>23.0</td>\n",
       "      <td>3.0</td>\n",
       "      <td>4.0</td>\n",
       "      <td>1.0</td>\n",
       "    </tr>\n",
       "  </tbody>\n",
       "</table>\n",
       "</div>"
      ],
      "text/plain": [
       "     surgery?  Age  rectal_temperature  pulse  respiratory_rate  \\\n",
       "57        1.0    1                 NaN    NaN              20.0   \n",
       "77        1.0    1                 NaN    NaN               NaN   \n",
       "82        1.0    1                38.0    NaN              24.0   \n",
       "92        2.0    1                 NaN    NaN               NaN   \n",
       "125       1.0    1                38.7    NaN               NaN   \n",
       "135       1.0    1                 NaN    NaN               NaN   \n",
       "150       1.0    1                39.3    NaN               NaN   \n",
       "159       1.0    1                 NaN    NaN               NaN   \n",
       "173       2.0    1                 NaN    NaN               NaN   \n",
       "181       1.0    1                38.0    NaN              24.0   \n",
       "203       1.0    1                39.2    NaN              23.0   \n",
       "\n",
       "     temperature_of_extremities  pain  outcome  \n",
       "57                          4.0   5.0      2.0  \n",
       "77                          3.0   5.0      2.0  \n",
       "82                          3.0   5.0      2.0  \n",
       "92                          3.0   5.0      2.0  \n",
       "125                         3.0   5.0      1.0  \n",
       "135                         3.0   5.0      2.0  \n",
       "150                         4.0   4.0      2.0  \n",
       "159                         NaN   4.0      1.0  \n",
       "173                         3.0   4.0      2.0  \n",
       "181                         3.0   5.0      2.0  \n",
       "203                         3.0   4.0      1.0  "
      ]
     },
     "execution_count": 180,
     "metadata": {},
     "output_type": "execute_result"
    }
   ],
   "source": [
    "df1[ (df1['pain']>3) & (df1['pulse'].isnull())]\n"
   ]
  },
  {
   "cell_type": "code",
   "execution_count": 181,
   "metadata": {},
   "outputs": [
    {
     "name": "stderr",
     "output_type": "stream",
     "text": [
      "<ipython-input-181-b5eca3cef32f>:1: SettingWithCopyWarning: \n",
      "A value is trying to be set on a copy of a slice from a DataFrame.\n",
      "Try using .loc[row_indexer,col_indexer] = value instead\n",
      "\n",
      "See the caveats in the documentation: https://pandas.pydata.org/pandas-docs/stable/user_guide/indexing.html#returning-a-view-versus-a-copy\n",
      "  df1['pulse'] = np.where(df1['pain']>3 & df1['pulse'].isnull(), df1['pulse'].max(), df1['pulse'])\n"
     ]
    }
   ],
   "source": [
    "df1['pulse'] = np.where(df1['pain']>3 & df1['pulse'].isnull(), df1['pulse'].max(), df1['pulse'])\n",
    "\n"
   ]
  },
  {
   "cell_type": "code",
   "execution_count": null,
   "metadata": {},
   "outputs": [],
   "source": []
  }
 ],
 "metadata": {
  "kernelspec": {
   "display_name": "Python 3",
   "language": "python",
   "name": "python3"
  },
  "language_info": {
   "codemirror_mode": {
    "name": "ipython",
    "version": 3
   },
   "file_extension": ".py",
   "mimetype": "text/x-python",
   "name": "python",
   "nbconvert_exporter": "python",
   "pygments_lexer": "ipython3",
   "version": "3.8.5"
  }
 },
 "nbformat": 4,
 "nbformat_minor": 4
}
